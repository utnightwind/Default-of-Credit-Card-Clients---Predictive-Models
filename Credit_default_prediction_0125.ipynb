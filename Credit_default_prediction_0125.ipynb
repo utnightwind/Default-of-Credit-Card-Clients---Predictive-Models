{
 "cells": [
  {
   "cell_type": "markdown",
   "metadata": {},
   "source": [
    "# Default of Credit Card Clients - Predictive Models"
   ]
  },
  {
   "cell_type": "markdown",
   "metadata": {},
   "source": [
    "# Outline"
   ]
  },
  {
   "cell_type": "markdown",
   "metadata": {},
   "source": [
    "- Introduction\n",
    "- Read data and check data structure\n",
    "- Data exploration\n",
    "- Predictive models\n",
    "- Model evaluation"
   ]
  },
  {
   "cell_type": "markdown",
   "metadata": {},
   "source": [
    "# Introduction"
   ]
  },
  {
   "cell_type": "markdown",
   "metadata": {},
   "source": [
    "This dataset contains information on credit card holders. The objective is to estimate the probability of default. \n",
    "\n",
    "We will talk about the content of the data."
   ]
  },
  {
   "cell_type": "markdown",
   "metadata": {},
   "source": [
    "## Load libaries"
   ]
  },
  {
   "cell_type": "code",
   "execution_count": 1,
   "metadata": {},
   "outputs": [],
   "source": [
    "import pandas as pd\n",
    "import numpy as np\n",
    "\n",
    "import matplotlib.pyplot as plt\n",
    "from IPython.core.interactiveshell import InteractiveShell \n",
    "InteractiveShell.ast_node_interactivity = \"all\"\n",
    "%matplotlib inline \n",
    "\n",
    "import gc\n",
    "from datetime import datetime \n",
    "\n",
    "pd.set_option('display.max_columns', 100)\n",
    "\n",
    "import seaborn as sns\n",
    "import matplotlib as mpl\n",
    "\n",
    "from numpy import convolve\n",
    "\n",
    "from sklearn.model_selection import train_test_split\n",
    "import xgboost as xgb\n",
    "\n",
    "\n",
    "import traceback\n",
    "import scipy.stats.stats as stats\n",
    "import re\n",
    "from pandas import Series\n",
    "import pandas.core.algorithms as algos\n",
    "from bayes_opt import BayesianOptimization\n",
    "\n",
    "#Ignore warnings \n",
    "import warnings\n",
    "warnings.filterwarnings('ignore')\n",
    "\n",
    "from sklearn.model_selection import cross_val_score, StratifiedKFold\n",
    "from sklearn.model_selection import cross_val_predict\n",
    "from sklearn.model_selection import train_test_split\n",
    "from sklearn.model_selection import KFold\n",
    "from sklearn.metrics import precision_score, recall_score, f1_score\n",
    "from sklearn.metrics import roc_curve,  roc_auc_score, precision_recall_curve\n",
    "from sklearn.metrics import accuracy_score, make_scorer\n",
    "from sklearn.model_selection import GridSearchCV\n",
    "from sklearn.metrics import r2_score\n",
    "from sklearn import preprocessing\n",
    "from sklearn.linear_model import LogisticRegression\n",
    "from sklearn.ensemble import RandomForestClassifier\n",
    "from sklearn.ensemble import AdaBoostClassifier\n",
    "from catboost import CatBoostClassifier\n",
    "import lightgbm as lgb\n"
   ]
  },
  {
   "cell_type": "markdown",
   "metadata": {},
   "source": [
    "## Read data and check data structure"
   ]
  },
  {
   "cell_type": "code",
   "execution_count": 2,
   "metadata": {
    "scrolled": true
   },
   "outputs": [
    {
     "name": "stdout",
     "output_type": "stream",
     "text": [
      "Default Credit Card Clients data -  rows: 30000  columns: 25\n"
     ]
    },
    {
     "data": {
      "text/html": [
       "<div>\n",
       "<style scoped>\n",
       "    .dataframe tbody tr th:only-of-type {\n",
       "        vertical-align: middle;\n",
       "    }\n",
       "\n",
       "    .dataframe tbody tr th {\n",
       "        vertical-align: top;\n",
       "    }\n",
       "\n",
       "    .dataframe thead th {\n",
       "        text-align: right;\n",
       "    }\n",
       "</style>\n",
       "<table border=\"1\" class=\"dataframe\">\n",
       "  <thead>\n",
       "    <tr style=\"text-align: right;\">\n",
       "      <th></th>\n",
       "      <th>ID</th>\n",
       "      <th>LIMIT_BAL</th>\n",
       "      <th>SEX</th>\n",
       "      <th>EDUCATION</th>\n",
       "      <th>MARRIAGE</th>\n",
       "      <th>AGE</th>\n",
       "      <th>PAY_0</th>\n",
       "      <th>PAY_2</th>\n",
       "      <th>PAY_3</th>\n",
       "      <th>PAY_4</th>\n",
       "      <th>PAY_5</th>\n",
       "      <th>PAY_6</th>\n",
       "      <th>BILL_AMT1</th>\n",
       "      <th>BILL_AMT2</th>\n",
       "      <th>BILL_AMT3</th>\n",
       "      <th>BILL_AMT4</th>\n",
       "      <th>BILL_AMT5</th>\n",
       "      <th>BILL_AMT6</th>\n",
       "      <th>PAY_AMT1</th>\n",
       "      <th>PAY_AMT2</th>\n",
       "      <th>PAY_AMT3</th>\n",
       "      <th>PAY_AMT4</th>\n",
       "      <th>PAY_AMT5</th>\n",
       "      <th>PAY_AMT6</th>\n",
       "      <th>default payment next month</th>\n",
       "    </tr>\n",
       "  </thead>\n",
       "  <tbody>\n",
       "    <tr>\n",
       "      <th>0</th>\n",
       "      <td>1</td>\n",
       "      <td>20000</td>\n",
       "      <td>2</td>\n",
       "      <td>2</td>\n",
       "      <td>1</td>\n",
       "      <td>24</td>\n",
       "      <td>2</td>\n",
       "      <td>2</td>\n",
       "      <td>-1</td>\n",
       "      <td>-1</td>\n",
       "      <td>-2</td>\n",
       "      <td>-2</td>\n",
       "      <td>3913</td>\n",
       "      <td>3102</td>\n",
       "      <td>689</td>\n",
       "      <td>0</td>\n",
       "      <td>0</td>\n",
       "      <td>0</td>\n",
       "      <td>0</td>\n",
       "      <td>689</td>\n",
       "      <td>0</td>\n",
       "      <td>0</td>\n",
       "      <td>0</td>\n",
       "      <td>0</td>\n",
       "      <td>1</td>\n",
       "    </tr>\n",
       "    <tr>\n",
       "      <th>1</th>\n",
       "      <td>2</td>\n",
       "      <td>120000</td>\n",
       "      <td>2</td>\n",
       "      <td>2</td>\n",
       "      <td>2</td>\n",
       "      <td>26</td>\n",
       "      <td>-1</td>\n",
       "      <td>2</td>\n",
       "      <td>0</td>\n",
       "      <td>0</td>\n",
       "      <td>0</td>\n",
       "      <td>2</td>\n",
       "      <td>2682</td>\n",
       "      <td>1725</td>\n",
       "      <td>2682</td>\n",
       "      <td>3272</td>\n",
       "      <td>3455</td>\n",
       "      <td>3261</td>\n",
       "      <td>0</td>\n",
       "      <td>1000</td>\n",
       "      <td>1000</td>\n",
       "      <td>1000</td>\n",
       "      <td>0</td>\n",
       "      <td>2000</td>\n",
       "      <td>1</td>\n",
       "    </tr>\n",
       "    <tr>\n",
       "      <th>2</th>\n",
       "      <td>3</td>\n",
       "      <td>90000</td>\n",
       "      <td>2</td>\n",
       "      <td>2</td>\n",
       "      <td>2</td>\n",
       "      <td>34</td>\n",
       "      <td>0</td>\n",
       "      <td>0</td>\n",
       "      <td>0</td>\n",
       "      <td>0</td>\n",
       "      <td>0</td>\n",
       "      <td>0</td>\n",
       "      <td>29239</td>\n",
       "      <td>14027</td>\n",
       "      <td>13559</td>\n",
       "      <td>14331</td>\n",
       "      <td>14948</td>\n",
       "      <td>15549</td>\n",
       "      <td>1518</td>\n",
       "      <td>1500</td>\n",
       "      <td>1000</td>\n",
       "      <td>1000</td>\n",
       "      <td>1000</td>\n",
       "      <td>5000</td>\n",
       "      <td>0</td>\n",
       "    </tr>\n",
       "    <tr>\n",
       "      <th>3</th>\n",
       "      <td>4</td>\n",
       "      <td>50000</td>\n",
       "      <td>2</td>\n",
       "      <td>2</td>\n",
       "      <td>1</td>\n",
       "      <td>37</td>\n",
       "      <td>0</td>\n",
       "      <td>0</td>\n",
       "      <td>0</td>\n",
       "      <td>0</td>\n",
       "      <td>0</td>\n",
       "      <td>0</td>\n",
       "      <td>46990</td>\n",
       "      <td>48233</td>\n",
       "      <td>49291</td>\n",
       "      <td>28314</td>\n",
       "      <td>28959</td>\n",
       "      <td>29547</td>\n",
       "      <td>2000</td>\n",
       "      <td>2019</td>\n",
       "      <td>1200</td>\n",
       "      <td>1100</td>\n",
       "      <td>1069</td>\n",
       "      <td>1000</td>\n",
       "      <td>0</td>\n",
       "    </tr>\n",
       "    <tr>\n",
       "      <th>4</th>\n",
       "      <td>5</td>\n",
       "      <td>50000</td>\n",
       "      <td>1</td>\n",
       "      <td>2</td>\n",
       "      <td>1</td>\n",
       "      <td>57</td>\n",
       "      <td>-1</td>\n",
       "      <td>0</td>\n",
       "      <td>-1</td>\n",
       "      <td>0</td>\n",
       "      <td>0</td>\n",
       "      <td>0</td>\n",
       "      <td>8617</td>\n",
       "      <td>5670</td>\n",
       "      <td>35835</td>\n",
       "      <td>20940</td>\n",
       "      <td>19146</td>\n",
       "      <td>19131</td>\n",
       "      <td>2000</td>\n",
       "      <td>36681</td>\n",
       "      <td>10000</td>\n",
       "      <td>9000</td>\n",
       "      <td>689</td>\n",
       "      <td>679</td>\n",
       "      <td>0</td>\n",
       "    </tr>\n",
       "  </tbody>\n",
       "</table>\n",
       "</div>"
      ],
      "text/plain": [
       "   ID  LIMIT_BAL  SEX  EDUCATION  MARRIAGE  AGE  PAY_0  PAY_2  PAY_3  PAY_4  \\\n",
       "0   1      20000    2          2         1   24      2      2     -1     -1   \n",
       "1   2     120000    2          2         2   26     -1      2      0      0   \n",
       "2   3      90000    2          2         2   34      0      0      0      0   \n",
       "3   4      50000    2          2         1   37      0      0      0      0   \n",
       "4   5      50000    1          2         1   57     -1      0     -1      0   \n",
       "\n",
       "   PAY_5  PAY_6  BILL_AMT1  BILL_AMT2  BILL_AMT3  BILL_AMT4  BILL_AMT5  \\\n",
       "0     -2     -2       3913       3102        689          0          0   \n",
       "1      0      2       2682       1725       2682       3272       3455   \n",
       "2      0      0      29239      14027      13559      14331      14948   \n",
       "3      0      0      46990      48233      49291      28314      28959   \n",
       "4      0      0       8617       5670      35835      20940      19146   \n",
       "\n",
       "   BILL_AMT6  PAY_AMT1  PAY_AMT2  PAY_AMT3  PAY_AMT4  PAY_AMT5  PAY_AMT6  \\\n",
       "0          0         0       689         0         0         0         0   \n",
       "1       3261         0      1000      1000      1000         0      2000   \n",
       "2      15549      1518      1500      1000      1000      1000      5000   \n",
       "3      29547      2000      2019      1200      1100      1069      1000   \n",
       "4      19131      2000     36681     10000      9000       689       679   \n",
       "\n",
       "   default payment next month  \n",
       "0                           1  \n",
       "1                           1  \n",
       "2                           0  \n",
       "3                           0  \n",
       "4                           0  "
      ]
     },
     "execution_count": 2,
     "metadata": {},
     "output_type": "execute_result"
    }
   ],
   "source": [
    "data_path = './default of credit card clients.xls'\n",
    "data_pd = pd.read_excel(data_path,header=[1])\n",
    "print(\"Default Credit Card Clients data -  rows:\",data_pd.shape[0],\" columns:\", data_pd.shape[1])\n",
    "data_pd.head(5)"
   ]
  },
  {
   "cell_type": "code",
   "execution_count": 3,
   "metadata": {
    "scrolled": true
   },
   "outputs": [
    {
     "data": {
      "text/html": [
       "<div>\n",
       "<style scoped>\n",
       "    .dataframe tbody tr th:only-of-type {\n",
       "        vertical-align: middle;\n",
       "    }\n",
       "\n",
       "    .dataframe tbody tr th {\n",
       "        vertical-align: top;\n",
       "    }\n",
       "\n",
       "    .dataframe thead th {\n",
       "        text-align: right;\n",
       "    }\n",
       "</style>\n",
       "<table border=\"1\" class=\"dataframe\">\n",
       "  <thead>\n",
       "    <tr style=\"text-align: right;\">\n",
       "      <th></th>\n",
       "      <th>ID</th>\n",
       "      <th>LIMIT_BAL</th>\n",
       "      <th>SEX</th>\n",
       "      <th>EDUCATION</th>\n",
       "      <th>MARRIAGE</th>\n",
       "      <th>AGE</th>\n",
       "      <th>PAY_0</th>\n",
       "      <th>PAY_2</th>\n",
       "      <th>PAY_3</th>\n",
       "      <th>PAY_4</th>\n",
       "      <th>PAY_5</th>\n",
       "      <th>PAY_6</th>\n",
       "      <th>BILL_AMT1</th>\n",
       "      <th>BILL_AMT2</th>\n",
       "      <th>BILL_AMT3</th>\n",
       "      <th>BILL_AMT4</th>\n",
       "      <th>BILL_AMT5</th>\n",
       "      <th>BILL_AMT6</th>\n",
       "      <th>PAY_AMT1</th>\n",
       "      <th>PAY_AMT2</th>\n",
       "      <th>PAY_AMT3</th>\n",
       "      <th>PAY_AMT4</th>\n",
       "      <th>PAY_AMT5</th>\n",
       "      <th>PAY_AMT6</th>\n",
       "      <th>default payment next month</th>\n",
       "    </tr>\n",
       "  </thead>\n",
       "  <tbody>\n",
       "    <tr>\n",
       "      <th>count</th>\n",
       "      <td>30000.000000</td>\n",
       "      <td>30000.000000</td>\n",
       "      <td>30000.000000</td>\n",
       "      <td>30000.000000</td>\n",
       "      <td>30000.000000</td>\n",
       "      <td>30000.000000</td>\n",
       "      <td>30000.000000</td>\n",
       "      <td>30000.000000</td>\n",
       "      <td>30000.000000</td>\n",
       "      <td>30000.000000</td>\n",
       "      <td>30000.000000</td>\n",
       "      <td>30000.000000</td>\n",
       "      <td>30000.000000</td>\n",
       "      <td>30000.000000</td>\n",
       "      <td>3.000000e+04</td>\n",
       "      <td>30000.000000</td>\n",
       "      <td>30000.000000</td>\n",
       "      <td>30000.000000</td>\n",
       "      <td>30000.000000</td>\n",
       "      <td>3.000000e+04</td>\n",
       "      <td>30000.00000</td>\n",
       "      <td>30000.000000</td>\n",
       "      <td>30000.000000</td>\n",
       "      <td>30000.000000</td>\n",
       "      <td>30000.000000</td>\n",
       "    </tr>\n",
       "    <tr>\n",
       "      <th>mean</th>\n",
       "      <td>15000.500000</td>\n",
       "      <td>167484.322667</td>\n",
       "      <td>1.603733</td>\n",
       "      <td>1.853133</td>\n",
       "      <td>1.551867</td>\n",
       "      <td>35.485500</td>\n",
       "      <td>-0.016700</td>\n",
       "      <td>-0.133767</td>\n",
       "      <td>-0.166200</td>\n",
       "      <td>-0.220667</td>\n",
       "      <td>-0.266200</td>\n",
       "      <td>-0.291100</td>\n",
       "      <td>51223.330900</td>\n",
       "      <td>49179.075167</td>\n",
       "      <td>4.701315e+04</td>\n",
       "      <td>43262.948967</td>\n",
       "      <td>40311.400967</td>\n",
       "      <td>38871.760400</td>\n",
       "      <td>5663.580500</td>\n",
       "      <td>5.921163e+03</td>\n",
       "      <td>5225.68150</td>\n",
       "      <td>4826.076867</td>\n",
       "      <td>4799.387633</td>\n",
       "      <td>5215.502567</td>\n",
       "      <td>0.221200</td>\n",
       "    </tr>\n",
       "    <tr>\n",
       "      <th>std</th>\n",
       "      <td>8660.398374</td>\n",
       "      <td>129747.661567</td>\n",
       "      <td>0.489129</td>\n",
       "      <td>0.790349</td>\n",
       "      <td>0.521970</td>\n",
       "      <td>9.217904</td>\n",
       "      <td>1.123802</td>\n",
       "      <td>1.197186</td>\n",
       "      <td>1.196868</td>\n",
       "      <td>1.169139</td>\n",
       "      <td>1.133187</td>\n",
       "      <td>1.149988</td>\n",
       "      <td>73635.860576</td>\n",
       "      <td>71173.768783</td>\n",
       "      <td>6.934939e+04</td>\n",
       "      <td>64332.856134</td>\n",
       "      <td>60797.155770</td>\n",
       "      <td>59554.107537</td>\n",
       "      <td>16563.280354</td>\n",
       "      <td>2.304087e+04</td>\n",
       "      <td>17606.96147</td>\n",
       "      <td>15666.159744</td>\n",
       "      <td>15278.305679</td>\n",
       "      <td>17777.465775</td>\n",
       "      <td>0.415062</td>\n",
       "    </tr>\n",
       "    <tr>\n",
       "      <th>min</th>\n",
       "      <td>1.000000</td>\n",
       "      <td>10000.000000</td>\n",
       "      <td>1.000000</td>\n",
       "      <td>0.000000</td>\n",
       "      <td>0.000000</td>\n",
       "      <td>21.000000</td>\n",
       "      <td>-2.000000</td>\n",
       "      <td>-2.000000</td>\n",
       "      <td>-2.000000</td>\n",
       "      <td>-2.000000</td>\n",
       "      <td>-2.000000</td>\n",
       "      <td>-2.000000</td>\n",
       "      <td>-165580.000000</td>\n",
       "      <td>-69777.000000</td>\n",
       "      <td>-1.572640e+05</td>\n",
       "      <td>-170000.000000</td>\n",
       "      <td>-81334.000000</td>\n",
       "      <td>-339603.000000</td>\n",
       "      <td>0.000000</td>\n",
       "      <td>0.000000e+00</td>\n",
       "      <td>0.00000</td>\n",
       "      <td>0.000000</td>\n",
       "      <td>0.000000</td>\n",
       "      <td>0.000000</td>\n",
       "      <td>0.000000</td>\n",
       "    </tr>\n",
       "    <tr>\n",
       "      <th>25%</th>\n",
       "      <td>7500.750000</td>\n",
       "      <td>50000.000000</td>\n",
       "      <td>1.000000</td>\n",
       "      <td>1.000000</td>\n",
       "      <td>1.000000</td>\n",
       "      <td>28.000000</td>\n",
       "      <td>-1.000000</td>\n",
       "      <td>-1.000000</td>\n",
       "      <td>-1.000000</td>\n",
       "      <td>-1.000000</td>\n",
       "      <td>-1.000000</td>\n",
       "      <td>-1.000000</td>\n",
       "      <td>3558.750000</td>\n",
       "      <td>2984.750000</td>\n",
       "      <td>2.666250e+03</td>\n",
       "      <td>2326.750000</td>\n",
       "      <td>1763.000000</td>\n",
       "      <td>1256.000000</td>\n",
       "      <td>1000.000000</td>\n",
       "      <td>8.330000e+02</td>\n",
       "      <td>390.00000</td>\n",
       "      <td>296.000000</td>\n",
       "      <td>252.500000</td>\n",
       "      <td>117.750000</td>\n",
       "      <td>0.000000</td>\n",
       "    </tr>\n",
       "    <tr>\n",
       "      <th>50%</th>\n",
       "      <td>15000.500000</td>\n",
       "      <td>140000.000000</td>\n",
       "      <td>2.000000</td>\n",
       "      <td>2.000000</td>\n",
       "      <td>2.000000</td>\n",
       "      <td>34.000000</td>\n",
       "      <td>0.000000</td>\n",
       "      <td>0.000000</td>\n",
       "      <td>0.000000</td>\n",
       "      <td>0.000000</td>\n",
       "      <td>0.000000</td>\n",
       "      <td>0.000000</td>\n",
       "      <td>22381.500000</td>\n",
       "      <td>21200.000000</td>\n",
       "      <td>2.008850e+04</td>\n",
       "      <td>19052.000000</td>\n",
       "      <td>18104.500000</td>\n",
       "      <td>17071.000000</td>\n",
       "      <td>2100.000000</td>\n",
       "      <td>2.009000e+03</td>\n",
       "      <td>1800.00000</td>\n",
       "      <td>1500.000000</td>\n",
       "      <td>1500.000000</td>\n",
       "      <td>1500.000000</td>\n",
       "      <td>0.000000</td>\n",
       "    </tr>\n",
       "    <tr>\n",
       "      <th>75%</th>\n",
       "      <td>22500.250000</td>\n",
       "      <td>240000.000000</td>\n",
       "      <td>2.000000</td>\n",
       "      <td>2.000000</td>\n",
       "      <td>2.000000</td>\n",
       "      <td>41.000000</td>\n",
       "      <td>0.000000</td>\n",
       "      <td>0.000000</td>\n",
       "      <td>0.000000</td>\n",
       "      <td>0.000000</td>\n",
       "      <td>0.000000</td>\n",
       "      <td>0.000000</td>\n",
       "      <td>67091.000000</td>\n",
       "      <td>64006.250000</td>\n",
       "      <td>6.016475e+04</td>\n",
       "      <td>54506.000000</td>\n",
       "      <td>50190.500000</td>\n",
       "      <td>49198.250000</td>\n",
       "      <td>5006.000000</td>\n",
       "      <td>5.000000e+03</td>\n",
       "      <td>4505.00000</td>\n",
       "      <td>4013.250000</td>\n",
       "      <td>4031.500000</td>\n",
       "      <td>4000.000000</td>\n",
       "      <td>0.000000</td>\n",
       "    </tr>\n",
       "    <tr>\n",
       "      <th>max</th>\n",
       "      <td>30000.000000</td>\n",
       "      <td>1000000.000000</td>\n",
       "      <td>2.000000</td>\n",
       "      <td>6.000000</td>\n",
       "      <td>3.000000</td>\n",
       "      <td>79.000000</td>\n",
       "      <td>8.000000</td>\n",
       "      <td>8.000000</td>\n",
       "      <td>8.000000</td>\n",
       "      <td>8.000000</td>\n",
       "      <td>8.000000</td>\n",
       "      <td>8.000000</td>\n",
       "      <td>964511.000000</td>\n",
       "      <td>983931.000000</td>\n",
       "      <td>1.664089e+06</td>\n",
       "      <td>891586.000000</td>\n",
       "      <td>927171.000000</td>\n",
       "      <td>961664.000000</td>\n",
       "      <td>873552.000000</td>\n",
       "      <td>1.684259e+06</td>\n",
       "      <td>896040.00000</td>\n",
       "      <td>621000.000000</td>\n",
       "      <td>426529.000000</td>\n",
       "      <td>528666.000000</td>\n",
       "      <td>1.000000</td>\n",
       "    </tr>\n",
       "  </tbody>\n",
       "</table>\n",
       "</div>"
      ],
      "text/plain": [
       "                 ID       LIMIT_BAL           SEX     EDUCATION      MARRIAGE  \\\n",
       "count  30000.000000    30000.000000  30000.000000  30000.000000  30000.000000   \n",
       "mean   15000.500000   167484.322667      1.603733      1.853133      1.551867   \n",
       "std     8660.398374   129747.661567      0.489129      0.790349      0.521970   \n",
       "min        1.000000    10000.000000      1.000000      0.000000      0.000000   \n",
       "25%     7500.750000    50000.000000      1.000000      1.000000      1.000000   \n",
       "50%    15000.500000   140000.000000      2.000000      2.000000      2.000000   \n",
       "75%    22500.250000   240000.000000      2.000000      2.000000      2.000000   \n",
       "max    30000.000000  1000000.000000      2.000000      6.000000      3.000000   \n",
       "\n",
       "                AGE         PAY_0         PAY_2         PAY_3         PAY_4  \\\n",
       "count  30000.000000  30000.000000  30000.000000  30000.000000  30000.000000   \n",
       "mean      35.485500     -0.016700     -0.133767     -0.166200     -0.220667   \n",
       "std        9.217904      1.123802      1.197186      1.196868      1.169139   \n",
       "min       21.000000     -2.000000     -2.000000     -2.000000     -2.000000   \n",
       "25%       28.000000     -1.000000     -1.000000     -1.000000     -1.000000   \n",
       "50%       34.000000      0.000000      0.000000      0.000000      0.000000   \n",
       "75%       41.000000      0.000000      0.000000      0.000000      0.000000   \n",
       "max       79.000000      8.000000      8.000000      8.000000      8.000000   \n",
       "\n",
       "              PAY_5         PAY_6      BILL_AMT1      BILL_AMT2     BILL_AMT3  \\\n",
       "count  30000.000000  30000.000000   30000.000000   30000.000000  3.000000e+04   \n",
       "mean      -0.266200     -0.291100   51223.330900   49179.075167  4.701315e+04   \n",
       "std        1.133187      1.149988   73635.860576   71173.768783  6.934939e+04   \n",
       "min       -2.000000     -2.000000 -165580.000000  -69777.000000 -1.572640e+05   \n",
       "25%       -1.000000     -1.000000    3558.750000    2984.750000  2.666250e+03   \n",
       "50%        0.000000      0.000000   22381.500000   21200.000000  2.008850e+04   \n",
       "75%        0.000000      0.000000   67091.000000   64006.250000  6.016475e+04   \n",
       "max        8.000000      8.000000  964511.000000  983931.000000  1.664089e+06   \n",
       "\n",
       "           BILL_AMT4      BILL_AMT5      BILL_AMT6       PAY_AMT1  \\\n",
       "count   30000.000000   30000.000000   30000.000000   30000.000000   \n",
       "mean    43262.948967   40311.400967   38871.760400    5663.580500   \n",
       "std     64332.856134   60797.155770   59554.107537   16563.280354   \n",
       "min   -170000.000000  -81334.000000 -339603.000000       0.000000   \n",
       "25%      2326.750000    1763.000000    1256.000000    1000.000000   \n",
       "50%     19052.000000   18104.500000   17071.000000    2100.000000   \n",
       "75%     54506.000000   50190.500000   49198.250000    5006.000000   \n",
       "max    891586.000000  927171.000000  961664.000000  873552.000000   \n",
       "\n",
       "           PAY_AMT2      PAY_AMT3       PAY_AMT4       PAY_AMT5  \\\n",
       "count  3.000000e+04   30000.00000   30000.000000   30000.000000   \n",
       "mean   5.921163e+03    5225.68150    4826.076867    4799.387633   \n",
       "std    2.304087e+04   17606.96147   15666.159744   15278.305679   \n",
       "min    0.000000e+00       0.00000       0.000000       0.000000   \n",
       "25%    8.330000e+02     390.00000     296.000000     252.500000   \n",
       "50%    2.009000e+03    1800.00000    1500.000000    1500.000000   \n",
       "75%    5.000000e+03    4505.00000    4013.250000    4031.500000   \n",
       "max    1.684259e+06  896040.00000  621000.000000  426529.000000   \n",
       "\n",
       "            PAY_AMT6  default payment next month  \n",
       "count   30000.000000                30000.000000  \n",
       "mean     5215.502567                    0.221200  \n",
       "std     17777.465775                    0.415062  \n",
       "min         0.000000                    0.000000  \n",
       "25%       117.750000                    0.000000  \n",
       "50%      1500.000000                    0.000000  \n",
       "75%      4000.000000                    0.000000  \n",
       "max    528666.000000                    1.000000  "
      ]
     },
     "execution_count": 3,
     "metadata": {},
     "output_type": "execute_result"
    }
   ],
   "source": [
    "data_pd_des = data_pd.describe()\n",
    "data_pd_des"
   ]
  },
  {
   "cell_type": "markdown",
   "metadata": {},
   "source": [
    "## Data exploration"
   ]
  },
  {
   "cell_type": "markdown",
   "metadata": {},
   "source": [
    "### Demographic factors distribution"
   ]
  },
  {
   "cell_type": "code",
   "execution_count": 4,
   "metadata": {
    "scrolled": true
   },
   "outputs": [
    {
     "data": {
      "image/png": "[encoded data removed]",
      "text/plain": [
       "<Figure size 1152x720 with 4 Axes>"
      ]
     },
     "metadata": {
      "needs_background": "light"
     },
     "output_type": "display_data"
    }
   ],
   "source": [
    "TARGET = 'default payment next month'\n",
    "fig, axs = plt.subplots(2,2,figsize=(16,10))\n",
    "demographic = ['SEX', 'EDUCATION', 'MARRIAGE', 'AGE']\n",
    "for i in range(4):\n",
    "    class_0 = data_pd.loc[data_pd[TARGET] == 0][demographic[i]]\n",
    "    class_1 = data_pd.loc[data_pd[TARGET] == 1][demographic[i]]\n",
    "    sns.distplot(class_1,kde=True, color=\"red\",ax=axs[i//2][i%2])\n",
    "    sns.distplot(class_0,kde=True, color=\"green\",ax=axs[i//2][i%2])\n",
    "    axs[i//2][i%2].legend(labels=['Defaulters','Non-Defaulters'],\n",
    "           loc='upper right',bbox_to_anchor=(1, 1))\n",
    "plt.show();"
   ]
  },
  {
   "cell_type": "markdown",
   "metadata": {},
   "source": [
    "**Observation:** Demographic factors Doesn't seem to be key differentiating factors"
   ]
  },
  {
   "cell_type": "markdown",
   "metadata": {},
   "source": [
    "### Amount of credit limit distribution"
   ]
  },
  {
   "cell_type": "markdown",
   "metadata": {},
   "source": [
    "Let's look at the amount of credit limit distribution for defaulters and non-defaulters."
   ]
  },
  {
   "cell_type": "code",
   "execution_count": 5,
   "metadata": {},
   "outputs": [
    {
     "data": {
      "image/png": "[encoded data removed]",
      "text/plain": [
       "<Figure size 576x432 with 1 Axes>"
      ]
     },
     "metadata": {
      "needs_background": "light"
     },
     "output_type": "display_data"
    }
   ],
   "source": [
    "class_0 = data_pd.loc[data_pd[TARGET] == 0][\"LIMIT_BAL\"]\n",
    "class_1 = data_pd.loc[data_pd[TARGET] == 1][\"LIMIT_BAL\"]\n",
    "fig=plt.figure(figsize = (8,6))\n",
    "plt.title('Credit limit distribution for defaulters and non-defaulters')\n",
    "sns.set_color_codes(\"pastel\")\n",
    "sns.distplot(class_1,kde=True,bins=100, color=\"red\")\n",
    "sns.distplot(class_0,kde=True,bins=100, color=\"green\")\n",
    "fig.legend(labels=['Defaulters','Non-Defaulters'],\n",
    "           loc='upper right',bbox_to_anchor=(0.8, 0.8))\n",
    "plt.show();"
   ]
  },
  {
   "cell_type": "markdown",
   "metadata": {},
   "source": [
    "**Observation:** Defaulter/non-defaulters ratio is larger at the lower credit limit"
   ]
  },
  {
   "cell_type": "markdown",
   "metadata": {},
   "source": [
    "### Re-payment status distribution"
   ]
  },
  {
   "cell_type": "markdown",
   "metadata": {},
   "source": [
    "Let's look at the Re-payment status distribution for defaulters and non-defaulters. "
   ]
  },
  {
   "cell_type": "code",
   "execution_count": 6,
   "metadata": {},
   "outputs": [
    {
     "data": {
      "image/png": "[encoded data removed]",
      "text/plain": [
       "<Figure size 1152x720 with 6 Axes>"
      ]
     },
     "metadata": {
      "needs_background": "light"
     },
     "output_type": "display_data"
    }
   ],
   "source": [
    "fig, axs = plt.subplots(2,3,figsize=(16,10))\n",
    "pay_status = ['PAY_0', 'PAY_2', 'PAY_3', 'PAY_4', 'PAY_5', 'PAY_6']\n",
    "\n",
    "for i in range(6):\n",
    "    class_0 = data_pd.loc[data_pd[TARGET] == 0][pay_status[i]]\n",
    "    class_1 = data_pd.loc[data_pd[TARGET] == 1][pay_status[i]]\n",
    "    sns.distplot(class_1,kde=False, color=\"red\",ax=axs[i//3][i%3])\n",
    "    sns.distplot(class_0,kde=False, color=\"green\",ax=axs[i//3][i%3])\n",
    "    axs[i//3][i%3].legend(labels=['Defaulters','Non-Defaulters'],\n",
    "           loc='upper right',bbox_to_anchor=(1, 1))\n",
    "plt.show();"
   ]
  },
  {
   "cell_type": "markdown",
   "metadata": {},
   "source": [
    "**Observation**: Across all months, defaulters generally tend to pay two months late, non-defaulters generally pay within a month.\n",
    "\n"
   ]
  },
  {
   "cell_type": "markdown",
   "metadata": {},
   "source": [
    "### Bill amount and pay amount"
   ]
  },
  {
   "cell_type": "code",
   "execution_count": 7,
   "metadata": {},
   "outputs": [],
   "source": [
    "data_pd['PAY2BILL'] = (data_pd['PAY_AMT1']/(data_pd['BILL_AMT2']+1e-10)+\n",
    "                       data_pd['PAY_AMT2']/(data_pd['BILL_AMT3']+1e-10)+\n",
    "                       data_pd['PAY_AMT3']/(data_pd['BILL_AMT4']+1e-10)+\n",
    "                       data_pd['PAY_AMT4']/(data_pd['BILL_AMT5']+1e-10)+\n",
    "                       data_pd['PAY_AMT5']/(data_pd['BILL_AMT6']+1e-10))/5.0"
   ]
  },
  {
   "cell_type": "code",
   "execution_count": 8,
   "metadata": {},
   "outputs": [
    {
     "data": {
      "text/plain": [
       "Text(0.5, 1.0, 'PAY_AMT / BILL_AMT ratio distribution for defaulters and non-defaulters')"
      ]
     },
     "execution_count": 8,
     "metadata": {},
     "output_type": "execute_result"
    },
    {
     "data": {
      "text/plain": [
       "<matplotlib.axes._subplots.AxesSubplot at 0x23c4a368708>"
      ]
     },
     "execution_count": 8,
     "metadata": {},
     "output_type": "execute_result"
    },
    {
     "data": {
      "text/plain": [
       "<matplotlib.axes._subplots.AxesSubplot at 0x23c4a368708>"
      ]
     },
     "execution_count": 8,
     "metadata": {},
     "output_type": "execute_result"
    },
    {
     "data": {
      "text/plain": [
       "<matplotlib.legend.Legend at 0x23c49ffd708>"
      ]
     },
     "execution_count": 8,
     "metadata": {},
     "output_type": "execute_result"
    },
    {
     "data": {
      "image/png": "[encoded data removed]",
      "text/plain": [
       "<Figure size 576x432 with 1 Axes>"
      ]
     },
     "metadata": {
      "needs_background": "light"
     },
     "output_type": "display_data"
    }
   ],
   "source": [
    "class_0 = data_pd.loc[(data_pd[\"PAY2BILL\"]>0) & (data_pd[\"PAY2BILL\"]<1) & (data_pd[TARGET] == 0)]['PAY2BILL']\n",
    "class_1 = data_pd.loc[(data_pd[\"PAY2BILL\"]>0) & (data_pd[\"PAY2BILL\"]<1) & (data_pd[TARGET] == 1)]['PAY2BILL']\n",
    "fig=plt.figure(figsize = (8,6))\n",
    "plt.title('PAY_AMT / BILL_AMT ratio distribution for defaulters and non-defaulters')\n",
    "sns.set_color_codes(\"pastel\")\n",
    "sns.distplot(class_1,kde=False, bins =50, color='red')\n",
    "sns.distplot(class_0,kde=False, bins =50, color='green')\n",
    "fig.legend(labels=['Defaulters','Non-Defaulters'],\n",
    "           loc='upper right',bbox_to_anchor=(0.8, 0.8))\n",
    "plt.show();\n",
    "data_pd.drop(columns=['PAY2BILL'],inplace=True)"
   ]
  },
  {
   "cell_type": "code",
   "execution_count": 9,
   "metadata": {},
   "outputs": [
    {
     "name": "stdout",
     "output_type": "stream",
     "text": [
      "Number of samples used for the above distribution plot: \n",
      "(class 0: 20327) and (class 1: 5783)\n"
     ]
    }
   ],
   "source": [
    "print('Number of samples used for the above distribution plot: ')\n",
    "print('(class 0: {})'.format(len(class_0)) + ' and ' + '(class 1: {})'.format(len(class_1)))"
   ]
  },
  {
   "cell_type": "markdown",
   "metadata": {},
   "source": [
    "**Observation:** Interestingly, clients tend not to pay the whole amount of the bill. Most of them willing to pay 5% of the bill amount, and others willing to pay roughly 20%, 40%, 60%, 80%, and 100% of the bill amount. \n",
    "\n",
    "**Observations:**\n",
    "  * There is no missing value in the data\n",
    "  * Education level is mostly graduate school and university\n",
    "  * Most of the clients are either married or single\n",
    "  * Average age is 35.5\n",
    "  * Overall default rate is 22%, according to target variable mean"
   ]
  },
  {
   "cell_type": "markdown",
   "metadata": {},
   "source": [
    "# Data preprocessing"
   ]
  },
  {
   "cell_type": "markdown",
   "metadata": {},
   "source": [
    "## Train-validation split "
   ]
  },
  {
   "cell_type": "code",
   "execution_count": 10,
   "metadata": {},
   "outputs": [
    {
     "name": "stdout",
     "output_type": "stream",
     "text": [
      "In the training dataset, the default rate is\n",
      "0.22\n",
      "In the validation dataset, the default rate is\n",
      "0.23\n",
      "The default rates are similar in the training and validation dataset\n"
     ]
    }
   ],
   "source": [
    "VALID_SIZE = 0.20 # simple validation using train_test_split\n",
    "\n",
    "#CROSS-VALIDATION\n",
    "NUMBER_KFOLDS = 5 #number of KFolds for cross-validation\n",
    "\n",
    "RANDOM_STATE = 2020\n",
    "\n",
    "train_df, val_df = train_test_split(data_pd, test_size=VALID_SIZE, random_state=RANDOM_STATE, shuffle=True )\n",
    "\n",
    "# Make copies of the train_df and val_df for later usage.\n",
    "train_df_bkp = train_df.copy()\n",
    "val_df_bkp = val_df.copy()\n",
    "\n",
    "X_train, y_train = train_df.iloc[:,1:-1], train_df.iloc[:,-1]\n",
    "X_test,  y_test  = val_df.iloc[:,1:-1],  val_df.iloc[:,-1]\n",
    "\n",
    "y_train_hist,  y_test_hist = y_train.value_counts(normalize=True), y_test.value_counts(normalize=True)\n",
    "\n",
    "print('In the training dataset, the default rate is')\n",
    "print('{:.2f}'.format(y_train_hist[1]/(y_train_hist[0]+y_train_hist[1])))\n",
    "print('In the validation dataset, the default rate is')\n",
    "print('{:.2f}'.format(y_test_hist[1]/(y_test_hist[0]+y_test_hist[1])))\n",
    "\n",
    "print('The default rates are similar in the training and validation dataset')"
   ]
  },
  {
   "cell_type": "markdown",
   "metadata": {},
   "source": [
    "## Feature Engineer"
   ]
  },
  {
   "cell_type": "markdown",
   "metadata": {},
   "source": [
    "Weight of Evidence and information value is a common statistic used in classification models to gauge the predictive power of your feature set. Let's now do Weight of Evidence transformation."
   ]
  },
  {
   "cell_type": "code",
   "execution_count": 11,
   "metadata": {},
   "outputs": [],
   "source": [
    "max_bin = 20\n",
    "force_bin = 3\n",
    "\n",
    "def data_vars(df1, target):\n",
    "    \n",
    "    stack = traceback.extract_stack()\n",
    "    filename, lineno, function_name, code = stack[-2]\n",
    "    vars_name = re.compile(r'\\((.*?)\\).*$').search(code).groups()[0]\n",
    "    final = (re.findall(r\"[\\w']+\", vars_name))[-1]\n",
    "    \n",
    "    x = df1.dtypes.index\n",
    "    count = -1\n",
    "    \n",
    "    for i in x:\n",
    "        if i.upper() not in (final.upper()):\n",
    "            if np.issubdtype(df1[i], np.number) and len(Series.unique(df1[i])) > 2:\n",
    "                conv = mono_bin(target, df1[i])\n",
    "                conv[\"VAR_NAME\"] = i\n",
    "                count = count + 1\n",
    "            else:\n",
    "                conv = char_bin(target, df1[i])\n",
    "                conv[\"VAR_NAME\"] = i            \n",
    "                count = count + 1\n",
    "                \n",
    "            if count == 0:\n",
    "                iv_df = conv\n",
    "            else:\n",
    "                iv_df = iv_df.append(conv,ignore_index=True)\n",
    "    iv = pd.DataFrame({'IV':iv_df.groupby('VAR_NAME').IV.max()})\n",
    "    iv = iv.reset_index()\n",
    "    return(iv_df,iv)\n",
    "\n",
    "def woe_trans(df, final_iv):\n",
    "    df_woe = df.copy(deep=True)\n",
    "    for column in df.columns:\n",
    "        dvar = df_woe[column]\n",
    "        var_woe = final_iv[final_iv['VAR_NAME']==column][['MIN_VALUE','MAX_VALUE','WOE']]\n",
    "        var_woe.reset_index(drop=True, inplace=True)\n",
    "        split_list = [[var_woe['MIN_VALUE'][k], var_woe['MAX_VALUE'][k]] for k in range(len(var_woe))]\n",
    "        for i in range(len(var_woe)):\n",
    "            dvar[(dvar>=split_list[i][0]) & (dvar <=split_list[i][1])] = var_woe['WOE'][i]\n",
    "    return df_woe\n",
    "\n",
    "# Define a binning function for continuous independent variables\n",
    "def mono_bin(Y, X, n = max_bin):\n",
    "    df1 = pd.DataFrame({\"X\": X, \"Y\": Y})\n",
    "    justmiss = df1[['X','Y']][df1.X.isnull()]\n",
    "    notmiss = df1[['X','Y']][df1.X.notnull()]\n",
    "    r = 0\n",
    "    while np.abs(r) < 1:\n",
    "        try:\n",
    "            d1 = pd.DataFrame({\"X\": notmiss.X, \"Y\": notmiss.Y, \"Bucket\": pd.qcut(notmiss.X, n)})\n",
    "            d2 = d1.groupby('Bucket', as_index=True)\n",
    "            r, p = stats.spearmanr(d2.mean().X, d2.mean().Y)\n",
    "            n = n - 1 \n",
    "        except Exception as e:\n",
    "            n = n - 1\n",
    "\n",
    "    if len(d2) == 1:\n",
    "        n = force_bin         \n",
    "        bins = algos.quantile(notmiss.X, np.linspace(0, 1, n))\n",
    "        if len(np.unique(bins)) == 2:\n",
    "            bins = np.insert(bins, 0, 1)\n",
    "            bins[1] = bins[1]-(bins[1]/2)\n",
    "        d1 = pd.DataFrame({\"X\": notmiss.X, \"Y\": notmiss.Y, \"Bucket\": pd.cut(notmiss.X, np.unique(bins),include_lowest=True)}) \n",
    "        d2 = d1.groupby('Bucket', as_index=True)\n",
    "    \n",
    "    d3 = pd.DataFrame({},index=[])\n",
    "    d3[\"MIN_VALUE\"] = d2.min().X\n",
    "    d3[\"MAX_VALUE\"] = d2.max().X\n",
    "    d3[\"COUNT\"] = d2.count().Y\n",
    "    d3[\"EVENT\"] = d2.sum().Y\n",
    "    d3[\"NONEVENT\"] = d2.count().Y - d2.sum().Y\n",
    "    d3=d3.reset_index(drop=True)\n",
    "    \n",
    "    if len(justmiss.index) > 0:\n",
    "        d4 = pd.DataFrame({'MIN_VALUE':np.nan},index=[0])\n",
    "        d4[\"MAX_VALUE\"] = np.nan\n",
    "        d4[\"COUNT\"] = justmiss.count().Y\n",
    "        d4[\"EVENT\"] = justmiss.sum().Y\n",
    "        d4[\"NONEVENT\"] = justmiss.count().Y - justmiss.sum().Y\n",
    "        d3 = d3.append(d4,ignore_index=True)\n",
    "    \n",
    "    d3[\"EVENT_RATE\"] = d3.EVENT/d3.COUNT\n",
    "    d3[\"NON_EVENT_RATE\"] = d3.NONEVENT/d3.COUNT\n",
    "    d3[\"DIST_EVENT\"] = d3.EVENT/d3.sum().EVENT\n",
    "    d3[\"DIST_NON_EVENT\"] = d3.NONEVENT/d3.sum().NONEVENT\n",
    "    d3[\"WOE\"] = np.log(d3.DIST_EVENT/d3.DIST_NON_EVENT)\n",
    "    d3[\"IV\"] = (d3.DIST_EVENT-d3.DIST_NON_EVENT)*np.log(d3.DIST_EVENT/d3.DIST_NON_EVENT)\n",
    "    d3[\"VAR_NAME\"] = \"VAR\"\n",
    "    d3 = d3[['VAR_NAME','MIN_VALUE', 'MAX_VALUE', 'COUNT', 'EVENT', 'EVENT_RATE', 'NONEVENT', 'NON_EVENT_RATE', 'DIST_EVENT','DIST_NON_EVENT','WOE', 'IV']]       \n",
    "    d3 = d3.replace([np.inf, -np.inf], 0)\n",
    "    d3.IV = d3.IV.sum()\n",
    "    \n",
    "    return(d3)\n",
    "\n",
    "# Define a binning function for categorical independent variables\n",
    "def char_bin(Y, X):\n",
    "        \n",
    "    df1 = pd.DataFrame({\"X\": X, \"Y\": Y})\n",
    "    justmiss = df1[['X','Y']][df1.X.isnull()]\n",
    "    notmiss = df1[['X','Y']][df1.X.notnull()]    \n",
    " \n",
    "    df2 = notmiss.groupby('X',as_index=True)\n",
    "    \n",
    "    d3 = pd.DataFrame({},index=[])\n",
    "    \n",
    "    d3[\"COUNT\"] = df2.count().Y\n",
    "    d3[\"MIN_VALUE\"] = df2.sum().Y.index\n",
    "    d3[\"MAX_VALUE\"] = d3[\"MIN_VALUE\"]\n",
    "    d3[\"EVENT\"] = df2.sum().Y\n",
    "    d3[\"NONEVENT\"] = df2.count().Y - df2.sum().Y\n",
    "    \n",
    "    if len(justmiss.index) > 0:\n",
    "        d4 = pd.DataFrame({'MIN_VALUE':np.nan},index=[0])\n",
    "        d4[\"MAX_VALUE\"] = np.nan\n",
    "        d4[\"COUNT\"] = justmiss.count().Y\n",
    "        d4[\"EVENT\"] = justmiss.sum().Y\n",
    "        d4[\"NONEVENT\"] = justmiss.count().Y - justmiss.sum().Y\n",
    "        d3 = d3.append(d4,ignore_index=True)\n",
    "    \n",
    "    d3[\"EVENT_RATE\"] = d3.EVENT/d3.COUNT\n",
    "    d3[\"NON_EVENT_RATE\"] = d3.NONEVENT/d3.COUNT\n",
    "    d3[\"DIST_EVENT\"] = d3.EVENT/d3.sum().EVENT\n",
    "    d3[\"DIST_NON_EVENT\"] = d3.NONEVENT/d3.sum().NONEVENT\n",
    "    d3[\"WOE\"] = np.log(d3.DIST_EVENT/d3.DIST_NON_EVENT)\n",
    "    d3[\"IV\"] = (d3.DIST_EVENT-d3.DIST_NON_EVENT)*np.log(d3.DIST_EVENT/d3.DIST_NON_EVENT)\n",
    "    d3[\"VAR_NAME\"] = \"VAR\"\n",
    "    d3 = d3[['VAR_NAME','MIN_VALUE', 'MAX_VALUE', 'COUNT', 'EVENT', 'EVENT_RATE', 'NONEVENT', 'NON_EVENT_RATE', 'DIST_EVENT','DIST_NON_EVENT','WOE', 'IV']]      \n",
    "    d3 = d3.replace([np.inf, -np.inf], 0)\n",
    "    d3.IV = d3.IV.sum()\n",
    "    d3 = d3.reset_index(drop=True)\n",
    "    \n",
    "    return(d3)"
   ]
  },
  {
   "cell_type": "code",
   "execution_count": 12,
   "metadata": {},
   "outputs": [],
   "source": [
    "# Fit on the train data\n",
    "final_iv, IV = data_vars(X_train,y_train)\n",
    "\n",
    "# Transform on train and test data\n",
    "X_train = woe_trans(X_train, final_iv)\n",
    "X_test = woe_trans(X_test, final_iv)\n"
   ]
  },
  {
   "cell_type": "code",
   "execution_count": 13,
   "metadata": {},
   "outputs": [],
   "source": [
    "mm_scaler = preprocessing.MinMaxScaler()\n",
    "\n",
    "X_train_mm = mm_scaler.fit_transform(X_train)\n",
    "X_test_mm = mm_scaler.transform(X_test)\n",
    "\n",
    "# MinMaxScalar changed dataset type to be array, we change it back\n",
    "X_train = pd.DataFrame(X_train_mm, index=X_train.index, columns=X_train.columns)\n",
    "X_test  = pd.DataFrame(X_test_mm,  index=X_test.index,  columns=X_test.columns)\n",
    "\n"
   ]
  },
  {
   "cell_type": "code",
   "execution_count": 14,
   "metadata": {},
   "outputs": [
    {
     "name": "stdout",
     "output_type": "stream",
     "text": [
      "{'C': 10, 'max_iter': 10, 'penalty': 'l1', 'solver': 'saga', 'tol': 1e-05}\n"
     ]
    }
   ],
   "source": [
    "from warnings import filterwarnings\n",
    "from sklearn.model_selection import GridSearchCV\n",
    "filterwarnings('ignore')\n",
    "\n",
    "param_grid = [\n",
    "    {'penalty':  ['l2'],\n",
    "     'C':        [0.1, 1, 10, 100, 1000, 10000], \n",
    "     'max_iter': [10, 100, 1000, 10000],\n",
    "     'tol':      [1e-4, 1e-5, 1e-6],\n",
    "     'solver':   ['newton-cg']\n",
    "    },\n",
    "    {'penalty':  ['l1'],\n",
    "     'C':        [0.1, 1, 10, 100, 1000, 2000], \n",
    "     'max_iter': [10, 100, 1000],\n",
    "     'tol':      [1e-4, 1e-5, 1e-6],\n",
    "     'solver':   ['saga']\n",
    "    },\n",
    "]\n",
    "lgt_clf = LogisticRegression()\n",
    "grid_search = GridSearchCV(lgt_clf, param_grid, cv=5, iid='True', \n",
    "                           scoring='f1')\n",
    "grid_search.fit(X_train, y_train)\n",
    "\n",
    "# Best params\n",
    "print(grid_search.best_params_)\n",
    "\n",
    "# Best estimator\n",
    "lgt_clf_gd=grid_search.best_estimator_;"
   ]
  },
  {
   "cell_type": "code",
   "execution_count": 15,
   "metadata": {},
   "outputs": [
    {
     "data": {
      "text/plain": [
       "LogisticRegression(C=10, class_weight=None, dual=False, fit_intercept=True,\n",
       "                   intercept_scaling=1, l1_ratio=None, max_iter=10,\n",
       "                   multi_class='auto', n_jobs=None, penalty='l1',\n",
       "                   random_state=None, solver='saga', tol=1e-05, verbose=0,\n",
       "                   warm_start=False)"
      ]
     },
     "execution_count": 15,
     "metadata": {},
     "output_type": "execute_result"
    }
   ],
   "source": [
    "lgt_clf_gd.fit(X_train, y_train)"
   ]
  },
  {
   "cell_type": "code",
   "execution_count": 16,
   "metadata": {},
   "outputs": [
    {
     "data": {
      "text/plain": [
       "<Figure size 2250x750 with 0 Axes>"
      ]
     },
     "execution_count": 16,
     "metadata": {},
     "output_type": "execute_result"
    },
    {
     "data": {
      "text/plain": [
       "Text(0.5, 1.0, 'Logistic Regression')"
      ]
     },
     "execution_count": 16,
     "metadata": {},
     "output_type": "execute_result"
    },
    {
     "data": {
      "text/plain": [
       "Text(0.55, 0.45, 'Logsticgb F1 score:       0.539')"
      ]
     },
     "execution_count": 16,
     "metadata": {},
     "output_type": "execute_result"
    },
    {
     "data": {
      "image/png": "[encoded data removed]",
      "text/plain": [
       "<Figure size 2250x750 with 1 Axes>"
      ]
     },
     "metadata": {
      "needs_background": "light"
     },
     "output_type": "display_data"
    }
   ],
   "source": [
    "def plot_roc_curve(fpr, tpr, label=None):\n",
    "    plt.plot(fpr, tpr, 'g-', linewidth=2, label=label)\n",
    "    plt.plot([0, 1], [0, 1], 'k--')\n",
    "    plt.axis([0, 1, 0, 1])\n",
    "    plt.xlabel('False Positive Rate', fontsize=12)\n",
    "    plt.ylabel('True Positive Rate', fontsize=12)\n",
    "\n",
    "def plot_precision_recall_vs_threshold(precisions, recalls, thresholds):\n",
    "    plt.plot(thresholds, precisions[:-1], \"b--\", label=\"Precision\")\n",
    "    plt.plot(thresholds, recalls[:-1], \"g-\", label=\"Recall\")\n",
    "    f1=2*recalls*precisions/(precisions+recalls)\n",
    "    plt.plot(thresholds, f1[:-1], \"r-\", label=\"F1 score\")\n",
    "    plt.xlabel(\"Threshold\")\n",
    "    plt.legend(loc=\"lower center\")\n",
    "    plt.ylim([0, 1])\n",
    "\n",
    "def plot_precision_vs_recall(precisions, recalls):\n",
    "    plt.plot(recalls, precisions, \"b-\", linewidth=2)\n",
    "    plt.xlabel(\"Recall\", fontsize=12)\n",
    "    plt.ylabel(\"Precision\", fontsize=12)\n",
    "    plt.axis([0, 1, 0, 1])\n",
    "\n",
    "\n",
    "y_test_pred_prob_lgt_gd = lgt_clf_gd.predict_proba(X_test)[:,1]\n",
    "\n",
    "\n",
    "pl2, rl2, tl2 = precision_recall_curve(y_test, y_test_pred_prob_lgt_gd)\n",
    "\n",
    "\n",
    "\n",
    "f1=2*pl2*rl2/(pl2+rl2)\n",
    "\n",
    "mpl.rcParams['figure.dpi']= 150\n",
    "plt.figure(figsize=(15,5))\n",
    "\n",
    "\n",
    "plot_precision_recall_vs_threshold(pl2, rl2, tl2 );\n",
    "plt.title('Logistic Regression')\n",
    "\n",
    "\n",
    "txt_f1 = 'Logsticgb F1 score:  %10.3f'%(np.nanmax(f1[:-1]))\n",
    "\n",
    "#plt.text(0.55, 0.45, txt_f1, fontsize=12, va='top')\n",
    "plt.text(0.55, 0.45, txt_f1, fontsize=12, va='top')\n"
   ]
  },
  {
   "cell_type": "code",
   "execution_count": 17,
   "metadata": {},
   "outputs": [
    {
     "data": {
      "text/plain": [
       "<Figure size 400x400 with 0 Axes>"
      ]
     },
     "execution_count": 17,
     "metadata": {},
     "output_type": "execute_result"
    },
    {
     "data": {
      "text/plain": [
       "[<matplotlib.lines.Line2D at 0x23c49c7cf08>]"
      ]
     },
     "execution_count": 17,
     "metadata": {},
     "output_type": "execute_result"
    },
    {
     "data": {
      "text/plain": [
       "Text(0.5, 1.0, 'Test data ROC')"
      ]
     },
     "execution_count": 17,
     "metadata": {},
     "output_type": "execute_result"
    },
    {
     "data": {
      "text/plain": [
       "<matplotlib.legend.Legend at 0x23c4c4b3f88>"
      ]
     },
     "execution_count": 17,
     "metadata": {},
     "output_type": "execute_result"
    },
    {
     "data": {
      "text/plain": [
       "Text(0.55, 0.45, 'Logstic AUC:       77.06%')"
      ]
     },
     "execution_count": 17,
     "metadata": {},
     "output_type": "execute_result"
    },
    {
     "data": {
      "image/png": "[encoded data removed]",
      "text/plain": [
       "<Figure size 400x400 with 1 Axes>"
      ]
     },
     "metadata": {
      "needs_background": "light"
     },
     "output_type": "display_data"
    }
   ],
   "source": [
    "fp_l, tp_l, td_l = roc_curve(y_test, y_test_pred_prob_lgt_gd)\n",
    "\n",
    "auc_lgt = roc_auc_score(y_test, y_test_pred_prob_lgt_gd)\n",
    "\n",
    "\n",
    "mpl.rcParams['figure.dpi']= 100\n",
    "plt.figure(figsize=(4,4))\n",
    "plt.plot(fp_l, tp_l,'b:',label='Logistic Regression')\n",
    "\n",
    "plt.title('Test data ROC')\n",
    "plt.legend(loc='lower right')\n",
    "tex_lgt = 'Logstic AUC:  %10.2f%%'%(auc_lgt*100)\n",
    "\n",
    "plt.text(0.55, 0.45, tex_lgt, fontsize=6, va='bottom')\n"
   ]
  },
  {
   "cell_type": "code",
   "execution_count": null,
   "metadata": {},
   "outputs": [],
   "source": [
    "\n",
    "# def xgb_hyper_param(learning_rate,\n",
    "#                         n_estimators,\n",
    "#                         max_depth,\n",
    "#                         subsample,\n",
    "#                         colsample,\n",
    "#                         gamma):\n",
    " \n",
    "#     max_depth = int(max_depth)\n",
    "#     n_estimators = int(n_estimators)\n",
    " \n",
    "#     clf = xgb.XGBClassifier(\n",
    "#         objective=\"binary:logistic\",\n",
    "#         learning_rate=learning_rate,\n",
    "#         n_estimators=n_estimators,\n",
    "#         max_depth=max_depth,\n",
    "#         gamma=gamma)\n",
    "#     return np.mean(cross_val_score(clf, X_train, y_train, cv=K_FOLD, scoring='roc_auc'))\n",
    "\n",
    "# pbounds = {\n",
    "#     'learning_rate': (0.01, 1.0),\n",
    "#     'n_estimators': (100, 1000),\n",
    "#     'max_depth': (3,10),\n",
    "#     'subsample': (0.8, 1.0),  # Change for big datasets\n",
    "#     'colsample': (0.8, 1.0),  # Change for datasets with lots of features\n",
    "#     'gamma': (0, 5)}\n",
    "\n",
    "# optimizer = BayesianOptimization(\n",
    "#     f=xgb_hyper_param,\n",
    "#     pbounds = pbounds,\n",
    "#     random_state=2020\n",
    "# )\n",
    "# optimizer.maximize(\n",
    "#     init_points=2,\n",
    "#     n_iter=3\n",
    "# )"
   ]
  },
  {
   "cell_type": "code",
   "execution_count": null,
   "metadata": {},
   "outputs": [],
   "source": [
    "\n",
    "# xgb_clf = xgb.XGBClassifier(objective=\"binary:logistic\",\n",
    "#                         learning_rate = optimizer.max['params']['learning_rate'],\n",
    "#                         n_estimators  = int(optimizer.max['params']['n_estimators']),\n",
    "#                         max_depth     = int(optimizer.max['params']['max_depth']),\n",
    "#                         subsample     = optimizer.max['params']['subsample'],\n",
    "#                         colsample     = optimizer.max['params']['colsample'],\n",
    "#                         gamma         = optimizer.max['params']['gamma'])\n",
    "\n",
    "\n",
    "# xgb_clf.fit(X_train, y_train, eval_metric='auc', verbose=False,\n",
    "#             eval_set=[(X_test, y_test)], early_stopping_rounds=50)"
   ]
  },
  {
   "cell_type": "code",
   "execution_count": null,
   "metadata": {},
   "outputs": [],
   "source": [
    "# y_test_pred_prob_xgb_raw = xgb_clf.predict_proba(X_test)[:,1]\n",
    "\n",
    "# pl, rl, tl = precision_recall_curve(y_test, y_test_pred_prob_xgb_raw)\n",
    "\n",
    "# f1=2*pl*rl/(pl+rl)\n",
    "\n",
    "# mpl.rcParams['figure.dpi']= 150\n",
    "# plt.figure(figsize=(15,5))\n",
    "\n",
    "# plot_precision_recall_vs_threshold(pl, rl, tl );\n",
    "# plt.title('XGboost')\n",
    "\n",
    "# txt_f1 = 'XGB F1 score:  %10.3f'%(np.nanmax(f1[:-1]))\n",
    "\n",
    "# plt.text(0.55, 0.45, txt_f1, fontsize=12, va='top')\n",
    "\n"
   ]
  },
  {
   "cell_type": "code",
   "execution_count": null,
   "metadata": {},
   "outputs": [],
   "source": [
    "# fp_l, tp_l, td_l = roc_curve(y_test, y_test_pred_prob_xgb_raw)\n",
    "\n",
    "# auc_lgt = roc_auc_score(y_test, y_test_pred_prob_xgb_raw)\n",
    "\n",
    "\n",
    "# mpl.rcParams['figure.dpi']= 100\n",
    "# plt.figure(figsize=(4,4))\n",
    "# plt.plot(fp_l, tp_l,'b:',label='XGBoost')\n",
    "\n",
    "# plt.title('Test data ROC')\n",
    "# plt.legend(loc='lower right')\n",
    "# tex_lgt = 'XGB AUC:  %10.2f%%'%(auc_lgt*100)\n",
    "\n",
    "# plt.text(0.55, 0.45, tex_lgt, fontsize=6, va='bottom')"
   ]
  },
  {
   "cell_type": "code",
   "execution_count": null,
   "metadata": {},
   "outputs": [],
   "source": [
    "import tensorflow.keras.initializers\n",
    "import statistics\n",
    "import tensorflow.keras\n",
    "from sklearn import metrics\n",
    "from sklearn.model_selection import StratifiedKFold\n",
    "from tensorflow.keras.models import Sequential\n",
    "from tensorflow.keras.layers import Dense, Activation, Dropout\n",
    "from tensorflow.keras import regularizers\n",
    "from tensorflow.keras.callbacks import EarlyStopping\n",
    "from sklearn.model_selection import StratifiedShuffleSplit\n",
    "from tensorflow.keras.layers import LeakyReLU,PReLU\n",
    "from tensorflow.keras.optimizers import Adam\n",
    "from keras.wrappers.scikit_learn import KerasClassifier\n",
    "from sklearn.base import clone\n",
    "import keras"
   ]
  },
  {
   "cell_type": "code",
   "execution_count": null,
   "metadata": {},
   "outputs": [],
   "source": [
    "\n",
    "# Define my cross_val_score\n",
    "def ann_hyper_param(dropout, lr, neuronPct, neuronShrink):\n",
    "    skfolds = StratifiedKFold(n_splits=K_FOLD, random_state=2019)\n",
    "    scores = []\n",
    "    for train_idx, val_idx in skfolds.split(X_train.values, y_train.values):\n",
    "        clf = make_model(dropout, lr, neuronPct, neuronShrink) \n",
    "        X_train_folds = X_train.values[train_idx]\n",
    "        y_train_folds = y_train.values[train_idx]\n",
    "        X_val_fold   = X_train.values[val_idx]\n",
    "        y_val_fold   = y_train.values[val_idx]\n",
    "        clf.fit(X_train_folds, y_train_folds, verbose=0) \n",
    "        y_pred = clf.predict(X_val_fold)\n",
    "        score = roc_auc_score(y_val_fold, y_pred)\n",
    "        scores.append(score)\n",
    "        keras.backend.clear_session() # clear the current model\n",
    "    return statistics.mean(scores) \n",
    "\n",
    "def make_model(dropout, lr, neuronPct, neuronShrink):\n",
    "    neuronCount = int(neuronPct * 5000)\n",
    "    model = Sequential()\n",
    "    layer = 0\n",
    "    neuronCount\n",
    "    while neuronCount>25 and layer<20:\n",
    "        if layer==0:\n",
    "            model.add(Dense(neuronCount, \n",
    "                            input_dim=X_train.shape[1], \n",
    "                            kernel_initializer = 'uniform',\n",
    "                            activation='relu')) \n",
    "        else:\n",
    "            model.add(Dense(neuronCount, kernel_initializer = 'uniform', activation='relu')) \n",
    "        model.add(Dropout(dropout))\n",
    "        neuronCount *= neuronShrink\n",
    "        neuronCount\n",
    "        layer += 1\n",
    "    model.add(Dense(1,kernel_initializer = 'uniform', activation='sigmoid')) # Output\n",
    "#     model.summary()\n",
    "    model.compile(loss='binary_crossentropy', optimizer=Adam(lr=lr), metrics=['accuracy'])\n",
    "    return model\n",
    "\n",
    "\n",
    "\n",
    "# Bounded region of parameter space\n",
    "pbounds = {\n",
    "           'dropout': (0.0, 0.499),\n",
    "           'lr': (0.0, 0.1),\n",
    "           'neuronPct': (0.01, 1),\n",
    "           'neuronShrink': (0.01, 1)\n",
    "          }\n",
    "optimizer = BayesianOptimization(\n",
    "    f=ann_hyper_param,\n",
    "    pbounds=pbounds,\n",
    "    random_state=2019\n",
    ")\n",
    "optimizer.maximize(init_points=1, n_iter=3)\n",
    "optimizer.max['params']['lr']"
   ]
  },
  {
   "cell_type": "code",
   "execution_count": null,
   "metadata": {},
   "outputs": [],
   "source": [
    "\n",
    "def make_model1(dropout, lr, neuronCount):\n",
    "    model = Sequential()    \n",
    "    model.add(Dense(neuronCount, \n",
    "                    input_dim=X_train.shape[1], \n",
    "                    kernel_initializer = 'uniform',\n",
    "                    activation='relu')) \n",
    "    model.add(Dense(neuronCount*2, kernel_initializer = 'uniform', activation='relu'))   \n",
    "\n",
    "    model.add(Dropout(dropout)) \n",
    "    model.add(Dense(1,kernel_initializer = 'uniform', activation='sigmoid')) # Output\n",
    "#     model.summary()\n",
    "    model.compile(loss='binary_crossentropy', optimizer=Adam(lr=lr), metrics=['accuracy'])\n",
    "    return model\n",
    "\n",
    "\n",
    "\n",
    "ann_clf = make_model1(dropout = 0.3, \n",
    "                    lr = 0.01,\n",
    "                    neuronCount = 50 )\n",
    "\n",
    "#best with 2 layers\n",
    "# ann_clf = make_model1(dropout = 0.3, \n",
    "#                     lr = 0.01,\n",
    "#                     neuronCount = 50 )\n",
    "\n",
    "\n",
    "# ann_clf = make_model(dropout = optimizer.max['params']['dropout'], \n",
    "#                     lr = optimizer.max['params']['lr'],\n",
    "#                     neuronPct = optimizer.max['params']['neuronPct'], \n",
    "#                     neuronShrink =optimizer.max['params']['neuronShrink'])\n",
    "ann_clf.summary()\n",
    "\n",
    "ann_clf.fit(X_train, y_train,  \n",
    "            epochs=40, verbose=True)\n",
    "\n",
    "#best\n",
    "# ann_clf.fit(X_train, y_train,  \n",
    "#             epochs=40, verbose=True)\n"
   ]
  },
  {
   "cell_type": "code",
   "execution_count": null,
   "metadata": {},
   "outputs": [],
   "source": [
    "from keras.layers import LSTM\n",
    "from keras.layers.embeddings import Embedding\n",
    "from keras.preprocessing import sequence\n",
    "def make_model2(dropout, lr, neuronCount, top_words):\n",
    "    model = Sequential()    \n",
    "#     model.add(Dense(neuronCount, \n",
    "#                     input_dim=X_train.shape[1], \n",
    "#                     kernel_initializer = 'uniform',\n",
    "#                     activation='relu')) \n",
    "\n",
    "#     model.add(Dense(neuronCount*2, kernel_initializer = 'uniform', activation='relu'))   \n",
    "#    model.add(Embedding(top_words, embedding_vecor_length=32, input_length=max_review_length))\n",
    "    model.add(LSTM(100, dropout=0.2, recurrent_dropout=0.2))\n",
    "#     model.add(Dropout(dropout)) \n",
    "    model.add(Dense(1, activation='sigmoid')) # Output\n",
    "#     model.summary()\n",
    "    model.compile(loss='binary_crossentropy', optimizer=Adam(lr=lr), metrics=['accuracy'])\n",
    "    return model\n",
    "\n",
    "\n",
    "\n",
    "max_review_length = 23\n",
    "embedding_vecor_length = 32\n",
    "X_train3= pd.DataFrame(X_train2).to_numpy()\n",
    "X_test3= pd.DataFrame(X_test2).to_numpy()\n",
    "X_train3 = sequence.pad_sequences(X_train3, maxlen=max_review_length, dtype='int32',padding='pre',truncating='pre',value=0.0)\n",
    "X_test3 = sequence.pad_sequences(X_test3, maxlen=max_review_length, dtype='int32',padding='pre',truncating='pre',value=0.0)\n",
    "\n",
    "ann_clf2 = make_model2(dropout = 0.3, \n",
    "                    lr = 0.01,\n",
    "                    neuronCount = 50, \n",
    "                    top_words = 1000)\n",
    "\n",
    "#best with 2 layers\n",
    "# ann_clf = make_model1(dropout = 0.3, \n",
    "#                     lr = 0.01,\n",
    "#                     neuronCount = 50 )\n",
    "\n",
    "\n",
    "# ann_clf = make_model(dropout = optimizer.max['params']['dropout'], \n",
    "#                     lr = optimizer.max['params']['lr'],\n",
    "#                     neuronPct = optimizer.max['params']['neuronPct'], \n",
    "#                     neuronShrink =optimizer.max['params']['neuronShrink'])\n",
    "ann_clf2.summary()\n",
    "\n",
    "\n",
    "\n",
    "ann_clf2.fit(X_train3, y_train2,  \n",
    "            epochs=40, verbose=True)\n",
    "\n",
    "#best\n",
    "# ann_clf.fit(X_train, y_train,  \n",
    "#             epochs=40, verbose=True)"
   ]
  },
  {
   "cell_type": "code",
   "execution_count": null,
   "metadata": {
    "scrolled": true
   },
   "outputs": [],
   "source": [
    "y_test_pred_prob_ann_raw = ann_clf.predict_proba(X_test)[:,0]\n",
    "np.nanmax(y_test_pred_prob_ann_raw)\n",
    "\n",
    "pl, rl, tl = precision_recall_curve(y_test, y_test_pred_prob_ann_raw)\n",
    "\n",
    "f1=2*pl*rl/(pl+rl)\n",
    "\n",
    "mpl.rcParams['figure.dpi']= 150\n",
    "plt.figure(figsize=(15,5))\n",
    "\n",
    "plot_precision_recall_vs_threshold(pl, rl, tl );\n",
    "plt.title('ANN')\n",
    "\n",
    "txt_f1 = 'ANN F1 score:  %10.3f'%(np.nanmax(f1[:-1]))\n",
    "\n",
    "plt.text(0.25, 0.45, txt_f1, fontsize=12, va='top')\n"
   ]
  },
  {
   "cell_type": "code",
   "execution_count": null,
   "metadata": {},
   "outputs": [],
   "source": [
    "fp_l, tp_l, td_l = roc_curve(y_test, y_test_pred_prob_ann_raw)\n",
    "\n",
    "auc_ann = roc_auc_score(y_test, y_test_pred_prob_ann_raw)\n",
    "# acc_ann = accuracy_score(y_true = y_test, y_pred = ann_clf.predict(X_test))\n",
    "\n",
    "mpl.rcParams['figure.dpi']= 100\n",
    "plt.figure(figsize=(4,4))\n",
    "plt.plot(fp_l, tp_l,'b:',label='ANN')\n",
    "\n",
    "plt.title('Test data ROC')\n",
    "plt.legend(loc='lower right')\n",
    "tex_lgt = 'ANN AUC:  %10.3f%%'%(auc_ann*100)\n",
    "\n",
    "\n",
    "plt.text(0.55, 0.45, tex_lgt, fontsize=6, va='bottom')\n",
    "# plt.text(0.55, 0.45, tex_2, fontsize=6, va='bottom')\n",
    "X_train.shape[1]"
   ]
  },
  {
   "cell_type": "code",
   "execution_count": null,
   "metadata": {},
   "outputs": [],
   "source": []
  }
 ],
 "metadata": {
  "kernelspec": {
   "display_name": "gputest",
   "language": "python",
   "name": "gputest"
  },
  "language_info": {
   "codemirror_mode": {
    "name": "ipython",
    "version": 3
   },
   "file_extension": ".py",
   "mimetype": "text/x-python",
   "name": "python",
   "nbconvert_exporter": "python",
   "pygments_lexer": "ipython3",
   "version": "3.7.5"
  },
  "toc": {
   "base_numbering": 1,
   "nav_menu": {},
   "number_sections": true,
   "sideBar": true,
   "skip_h1_title": false,
   "title_cell": "Table of Contents",
   "title_sidebar": "Contents",
   "toc_cell": false,
   "toc_position": {},
   "toc_section_display": true,
   "toc_window_display": false
  }
 },
 "nbformat": 4,
 "nbformat_minor": 2
}
